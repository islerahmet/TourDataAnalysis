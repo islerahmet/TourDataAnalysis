{
  "nbformat": 4,
  "nbformat_minor": 0,
  "metadata": {
    "colab": {
      "provenance": []
    },
    "kernelspec": {
      "name": "python3",
      "display_name": "Python 3"
    },
    "language_info": {
      "name": "python"
    }
  },
  "cells": [
    {
      "cell_type": "markdown",
      "source": [
        "Following some new Google search trends and survey data from the travel industry,\n",
        "TourData has identified an opportunity to build out a new Outbound Sales team as a\n",
        "branch of the global Support Team, in the hope of converting more high basket-size\n",
        "adventures.\n",
        "The definition of outbound sales refers to the process through which sales reps make\n",
        "outbound sales calls or utilize other sales channels to reach prospects. Outbound sales\n",
        "are where a seller, which is typically a sales rep, initiates engagement with a potential\n",
        "buyer.\n",
        "We have provided you with a dataset [sales_summary] which includes 3 full months of\n",
        "historical data on all of the enquiries received for tours offered on TourData.\n",
        "The dataset includes 28,491 individual enquiries with the following fields:\n",
        "\n",
        "enquiry_id ID that identifies a single enquiry.\n",
        "number_of_passengers The number of travelers on the enquiry.\n",
        "traveller_source_market The source market of the traveler.\n",
        "booking_status If the enquiry resulted in a booking, the status is BOOKED, otherwise,\n",
        "it shows as NOT BOOKED.\n",
        "gross_revenue_lcy Booking price associated with an enquiry (local currency).\n",
        "currency Currency of the enquiry.\n",
        "destination_continent The continent that the tour would be visiting.\n",
        "destination_main_country The main country that the tour would be visiting.\n",
        "lead_booking_travel_days The time (in days) between an enquiry creation and the travel date.\n",
        "operator_name The name of the tour operator operating the tour.\n",
        "tour_type The primary tour category.\n",
        "tour_length_in_days The length of the tour (in days).\n",
        "traveller_age The age of the lead traveler (if provided).\n",
        "\n",
        "\n",
        "Using the historical data provided, (1) create a report outlining recommendations for\n",
        "how many agents should be part of this Outbound Sales team and the Traveller\n",
        "Source Markets they should focus on. (2) In addition, create a profile for the team’s\n",
        "target traveler and the most common destinations we would expect to see booked.\n",
        "To help you solve this challenge, please consider these assumptions:\n",
        "● The Outbound Sales team should be targeting enquiries greater than or equal to 10k in value (LCY)\n",
        "● TourData expects to double the number of bookings above 10k with this dedicated team.\n",
        "● Each agent can handle 200 enquiries per month, on average."
      ],
      "metadata": {
        "id": "vQ1GdVZ5VKB7"
      }
    },
    {
      "cell_type": "code",
      "execution_count": 95,
      "metadata": {
        "id": "UXzUOez6lwob"
      },
      "outputs": [],
      "source": [
        "import numpy as np\n",
        "import pandas as pd\n",
        "import matplotlib.pyplot as plt\n",
        "import seaborn as sns\n",
        "\n",
        "import warnings\n",
        "warnings.filterwarnings(\"ignore\")\n",
        "warnings.warn(\"this will not show\")\n",
        "\n",
        "plt.rcParams[\"figure.figsize\"] = (10,6)\n",
        "\n",
        "sns.set_style(\"whitegrid\")\n",
        "pd.set_option('display.float_format', lambda x: '%.3f' % x)\n",
        "\n",
        "pd.set_option('display.max_columns', None)"
      ]
    },
    {
      "cell_type": "code",
      "source": [
        "from google.colab import drive\n",
        "drive.mount('/content/drive')"
      ],
      "metadata": {
        "colab": {
          "base_uri": "https://localhost:8080/"
        },
        "id": "Ho_l_BtEl96d",
        "outputId": "9d73201f-483e-4b7d-9d66-b8fb232a653c"
      },
      "execution_count": 96,
      "outputs": [
        {
          "output_type": "stream",
          "name": "stdout",
          "text": [
            "Drive already mounted at /content/drive; to attempt to forcibly remount, call drive.mount(\"/content/drive\", force_remount=True).\n"
          ]
        }
      ]
    },
    {
      "cell_type": "code",
      "source": [
        "df = pd.read_csv(\"/content/drive/MyDrive/python/sales_summary.tsv\", sep='\\t')"
      ],
      "metadata": {
        "id": "Ocxr3pQZmIf1"
      },
      "execution_count": 132,
      "outputs": []
    },
    {
      "cell_type": "code",
      "source": [
        "df"
      ],
      "metadata": {
        "colab": {
          "base_uri": "https://localhost:8080/",
          "height": 592
        },
        "id": "VbrfH0k9mbo1",
        "outputId": "b696ee0b-a27d-4376-ed41-841a0a370a18"
      },
      "execution_count": 98,
      "outputs": [
        {
          "output_type": "execute_result",
          "data": {
            "text/plain": [
              "       enquiry_id  number_of_passengers traveller_source_market  \\\n",
              "0         1234567                     5                     RoW   \n",
              "1         1234568                    20                  Canada   \n",
              "2         1234569                    18                  Canada   \n",
              "3         1234570                    40                      US   \n",
              "4         1234571                    16                           \n",
              "...           ...                   ...                     ...   \n",
              "28486     1263053                     1                  Europe   \n",
              "28487     1263054                     1                  Europe   \n",
              "28488     1263055                     1                      UK   \n",
              "28489     1263056                     1                      US   \n",
              "28490     1263057                     1               Australia   \n",
              "\n",
              "      booking_status gross_revenue_lcy currency destination_continent  \\\n",
              "0         NOT BOOKED           715,289      USD                  Asia   \n",
              "1         NOT BOOKED           608,074      USD                Europe   \n",
              "2         NOT BOOKED           260,695      CAD                Europe   \n",
              "3         NOT BOOKED           248,285      USD         North America   \n",
              "4         NOT BOOKED           231,559      USD                Europe   \n",
              "...              ...               ...      ...                   ...   \n",
              "28486         BOOKED             1,154      EUR                  Asia   \n",
              "28487     NOT BOOKED             1,153      EUR                Europe   \n",
              "28488         BOOKED             1,152      GBP                Africa   \n",
              "28489         BOOKED             1,152      USD         Latin America   \n",
              "28490         BOOKED             1,151      AUD                Africa   \n",
              "\n",
              "      destination_main_country  lead_booking_travel_days operator_name  \\\n",
              "0         United Arab Emirates                        61    operator_1   \n",
              "1                      Iceland                       150    operator_2   \n",
              "2                       France                       305    operator_3   \n",
              "3                          USA                       143    operator_4   \n",
              "4                      Germany                       296    operator_5   \n",
              "...                        ...                       ...           ...   \n",
              "28486                    India                        23  operator_903   \n",
              "28487                    Italy                        30    operator_7   \n",
              "28488                    Egypt                        88  operator_396   \n",
              "28489                   Mexico                        90  operator_411   \n",
              "28490                    Kenya                        45  operator_351   \n",
              "\n",
              "               tour_type  tour_length_in_days traveller_age  \n",
              "0      In-depth Cultural                7.000           NaN  \n",
              "1              Adventure               10.000           NaN  \n",
              "2                Bicycle                8.000           NaN  \n",
              "3               Explorer                9.000           NaN  \n",
              "4      Festival & Events                8.000           NaN  \n",
              "...                  ...                  ...           ...  \n",
              "28486  In-depth Cultural                5.000            32  \n",
              "28487  In-depth Cultural                6.000           NaN  \n",
              "28488  In-depth Cultural                7.000            28  \n",
              "28489  In-depth Cultural                4.000            53  \n",
              "28490             Safari                3.000            63  \n",
              "\n",
              "[28491 rows x 13 columns]"
            ],
            "text/html": [
              "\n",
              "  <div id=\"df-20dc1aec-15b6-4f54-bd54-6d26994b37e7\">\n",
              "    <div class=\"colab-df-container\">\n",
              "      <div>\n",
              "<style scoped>\n",
              "    .dataframe tbody tr th:only-of-type {\n",
              "        vertical-align: middle;\n",
              "    }\n",
              "\n",
              "    .dataframe tbody tr th {\n",
              "        vertical-align: top;\n",
              "    }\n",
              "\n",
              "    .dataframe thead th {\n",
              "        text-align: right;\n",
              "    }\n",
              "</style>\n",
              "<table border=\"1\" class=\"dataframe\">\n",
              "  <thead>\n",
              "    <tr style=\"text-align: right;\">\n",
              "      <th></th>\n",
              "      <th>enquiry_id</th>\n",
              "      <th>number_of_passengers</th>\n",
              "      <th>traveller_source_market</th>\n",
              "      <th>booking_status</th>\n",
              "      <th>gross_revenue_lcy</th>\n",
              "      <th>currency</th>\n",
              "      <th>destination_continent</th>\n",
              "      <th>destination_main_country</th>\n",
              "      <th>lead_booking_travel_days</th>\n",
              "      <th>operator_name</th>\n",
              "      <th>tour_type</th>\n",
              "      <th>tour_length_in_days</th>\n",
              "      <th>traveller_age</th>\n",
              "    </tr>\n",
              "  </thead>\n",
              "  <tbody>\n",
              "    <tr>\n",
              "      <th>0</th>\n",
              "      <td>1234567</td>\n",
              "      <td>5</td>\n",
              "      <td>RoW</td>\n",
              "      <td>NOT BOOKED</td>\n",
              "      <td>715,289</td>\n",
              "      <td>USD</td>\n",
              "      <td>Asia</td>\n",
              "      <td>United Arab Emirates</td>\n",
              "      <td>61</td>\n",
              "      <td>operator_1</td>\n",
              "      <td>In-depth Cultural</td>\n",
              "      <td>7.000</td>\n",
              "      <td>NaN</td>\n",
              "    </tr>\n",
              "    <tr>\n",
              "      <th>1</th>\n",
              "      <td>1234568</td>\n",
              "      <td>20</td>\n",
              "      <td>Canada</td>\n",
              "      <td>NOT BOOKED</td>\n",
              "      <td>608,074</td>\n",
              "      <td>USD</td>\n",
              "      <td>Europe</td>\n",
              "      <td>Iceland</td>\n",
              "      <td>150</td>\n",
              "      <td>operator_2</td>\n",
              "      <td>Adventure</td>\n",
              "      <td>10.000</td>\n",
              "      <td>NaN</td>\n",
              "    </tr>\n",
              "    <tr>\n",
              "      <th>2</th>\n",
              "      <td>1234569</td>\n",
              "      <td>18</td>\n",
              "      <td>Canada</td>\n",
              "      <td>NOT BOOKED</td>\n",
              "      <td>260,695</td>\n",
              "      <td>CAD</td>\n",
              "      <td>Europe</td>\n",
              "      <td>France</td>\n",
              "      <td>305</td>\n",
              "      <td>operator_3</td>\n",
              "      <td>Bicycle</td>\n",
              "      <td>8.000</td>\n",
              "      <td>NaN</td>\n",
              "    </tr>\n",
              "    <tr>\n",
              "      <th>3</th>\n",
              "      <td>1234570</td>\n",
              "      <td>40</td>\n",
              "      <td>US</td>\n",
              "      <td>NOT BOOKED</td>\n",
              "      <td>248,285</td>\n",
              "      <td>USD</td>\n",
              "      <td>North America</td>\n",
              "      <td>USA</td>\n",
              "      <td>143</td>\n",
              "      <td>operator_4</td>\n",
              "      <td>Explorer</td>\n",
              "      <td>9.000</td>\n",
              "      <td>NaN</td>\n",
              "    </tr>\n",
              "    <tr>\n",
              "      <th>4</th>\n",
              "      <td>1234571</td>\n",
              "      <td>16</td>\n",
              "      <td></td>\n",
              "      <td>NOT BOOKED</td>\n",
              "      <td>231,559</td>\n",
              "      <td>USD</td>\n",
              "      <td>Europe</td>\n",
              "      <td>Germany</td>\n",
              "      <td>296</td>\n",
              "      <td>operator_5</td>\n",
              "      <td>Festival &amp; Events</td>\n",
              "      <td>8.000</td>\n",
              "      <td>NaN</td>\n",
              "    </tr>\n",
              "    <tr>\n",
              "      <th>...</th>\n",
              "      <td>...</td>\n",
              "      <td>...</td>\n",
              "      <td>...</td>\n",
              "      <td>...</td>\n",
              "      <td>...</td>\n",
              "      <td>...</td>\n",
              "      <td>...</td>\n",
              "      <td>...</td>\n",
              "      <td>...</td>\n",
              "      <td>...</td>\n",
              "      <td>...</td>\n",
              "      <td>...</td>\n",
              "      <td>...</td>\n",
              "    </tr>\n",
              "    <tr>\n",
              "      <th>28486</th>\n",
              "      <td>1263053</td>\n",
              "      <td>1</td>\n",
              "      <td>Europe</td>\n",
              "      <td>BOOKED</td>\n",
              "      <td>1,154</td>\n",
              "      <td>EUR</td>\n",
              "      <td>Asia</td>\n",
              "      <td>India</td>\n",
              "      <td>23</td>\n",
              "      <td>operator_903</td>\n",
              "      <td>In-depth Cultural</td>\n",
              "      <td>5.000</td>\n",
              "      <td>32</td>\n",
              "    </tr>\n",
              "    <tr>\n",
              "      <th>28487</th>\n",
              "      <td>1263054</td>\n",
              "      <td>1</td>\n",
              "      <td>Europe</td>\n",
              "      <td>NOT BOOKED</td>\n",
              "      <td>1,153</td>\n",
              "      <td>EUR</td>\n",
              "      <td>Europe</td>\n",
              "      <td>Italy</td>\n",
              "      <td>30</td>\n",
              "      <td>operator_7</td>\n",
              "      <td>In-depth Cultural</td>\n",
              "      <td>6.000</td>\n",
              "      <td>NaN</td>\n",
              "    </tr>\n",
              "    <tr>\n",
              "      <th>28488</th>\n",
              "      <td>1263055</td>\n",
              "      <td>1</td>\n",
              "      <td>UK</td>\n",
              "      <td>BOOKED</td>\n",
              "      <td>1,152</td>\n",
              "      <td>GBP</td>\n",
              "      <td>Africa</td>\n",
              "      <td>Egypt</td>\n",
              "      <td>88</td>\n",
              "      <td>operator_396</td>\n",
              "      <td>In-depth Cultural</td>\n",
              "      <td>7.000</td>\n",
              "      <td>28</td>\n",
              "    </tr>\n",
              "    <tr>\n",
              "      <th>28489</th>\n",
              "      <td>1263056</td>\n",
              "      <td>1</td>\n",
              "      <td>US</td>\n",
              "      <td>BOOKED</td>\n",
              "      <td>1,152</td>\n",
              "      <td>USD</td>\n",
              "      <td>Latin America</td>\n",
              "      <td>Mexico</td>\n",
              "      <td>90</td>\n",
              "      <td>operator_411</td>\n",
              "      <td>In-depth Cultural</td>\n",
              "      <td>4.000</td>\n",
              "      <td>53</td>\n",
              "    </tr>\n",
              "    <tr>\n",
              "      <th>28490</th>\n",
              "      <td>1263057</td>\n",
              "      <td>1</td>\n",
              "      <td>Australia</td>\n",
              "      <td>BOOKED</td>\n",
              "      <td>1,151</td>\n",
              "      <td>AUD</td>\n",
              "      <td>Africa</td>\n",
              "      <td>Kenya</td>\n",
              "      <td>45</td>\n",
              "      <td>operator_351</td>\n",
              "      <td>Safari</td>\n",
              "      <td>3.000</td>\n",
              "      <td>63</td>\n",
              "    </tr>\n",
              "  </tbody>\n",
              "</table>\n",
              "<p>28491 rows × 13 columns</p>\n",
              "</div>\n",
              "      <button class=\"colab-df-convert\" onclick=\"convertToInteractive('df-20dc1aec-15b6-4f54-bd54-6d26994b37e7')\"\n",
              "              title=\"Convert this dataframe to an interactive table.\"\n",
              "              style=\"display:none;\">\n",
              "        \n",
              "  <svg xmlns=\"http://www.w3.org/2000/svg\" height=\"24px\"viewBox=\"0 0 24 24\"\n",
              "       width=\"24px\">\n",
              "    <path d=\"M0 0h24v24H0V0z\" fill=\"none\"/>\n",
              "    <path d=\"M18.56 5.44l.94 2.06.94-2.06 2.06-.94-2.06-.94-.94-2.06-.94 2.06-2.06.94zm-11 1L8.5 8.5l.94-2.06 2.06-.94-2.06-.94L8.5 2.5l-.94 2.06-2.06.94zm10 10l.94 2.06.94-2.06 2.06-.94-2.06-.94-.94-2.06-.94 2.06-2.06.94z\"/><path d=\"M17.41 7.96l-1.37-1.37c-.4-.4-.92-.59-1.43-.59-.52 0-1.04.2-1.43.59L10.3 9.45l-7.72 7.72c-.78.78-.78 2.05 0 2.83L4 21.41c.39.39.9.59 1.41.59.51 0 1.02-.2 1.41-.59l7.78-7.78 2.81-2.81c.8-.78.8-2.07 0-2.86zM5.41 20L4 18.59l7.72-7.72 1.47 1.35L5.41 20z\"/>\n",
              "  </svg>\n",
              "      </button>\n",
              "      \n",
              "  <style>\n",
              "    .colab-df-container {\n",
              "      display:flex;\n",
              "      flex-wrap:wrap;\n",
              "      gap: 12px;\n",
              "    }\n",
              "\n",
              "    .colab-df-convert {\n",
              "      background-color: #E8F0FE;\n",
              "      border: none;\n",
              "      border-radius: 50%;\n",
              "      cursor: pointer;\n",
              "      display: none;\n",
              "      fill: #1967D2;\n",
              "      height: 32px;\n",
              "      padding: 0 0 0 0;\n",
              "      width: 32px;\n",
              "    }\n",
              "\n",
              "    .colab-df-convert:hover {\n",
              "      background-color: #E2EBFA;\n",
              "      box-shadow: 0px 1px 2px rgba(60, 64, 67, 0.3), 0px 1px 3px 1px rgba(60, 64, 67, 0.15);\n",
              "      fill: #174EA6;\n",
              "    }\n",
              "\n",
              "    [theme=dark] .colab-df-convert {\n",
              "      background-color: #3B4455;\n",
              "      fill: #D2E3FC;\n",
              "    }\n",
              "\n",
              "    [theme=dark] .colab-df-convert:hover {\n",
              "      background-color: #434B5C;\n",
              "      box-shadow: 0px 1px 3px 1px rgba(0, 0, 0, 0.15);\n",
              "      filter: drop-shadow(0px 1px 2px rgba(0, 0, 0, 0.3));\n",
              "      fill: #FFFFFF;\n",
              "    }\n",
              "  </style>\n",
              "\n",
              "      <script>\n",
              "        const buttonEl =\n",
              "          document.querySelector('#df-20dc1aec-15b6-4f54-bd54-6d26994b37e7 button.colab-df-convert');\n",
              "        buttonEl.style.display =\n",
              "          google.colab.kernel.accessAllowed ? 'block' : 'none';\n",
              "\n",
              "        async function convertToInteractive(key) {\n",
              "          const element = document.querySelector('#df-20dc1aec-15b6-4f54-bd54-6d26994b37e7');\n",
              "          const dataTable =\n",
              "            await google.colab.kernel.invokeFunction('convertToInteractive',\n",
              "                                                     [key], {});\n",
              "          if (!dataTable) return;\n",
              "\n",
              "          const docLinkHtml = 'Like what you see? Visit the ' +\n",
              "            '<a target=\"_blank\" href=https://colab.research.google.com/notebooks/data_table.ipynb>data table notebook</a>'\n",
              "            + ' to learn more about interactive tables.';\n",
              "          element.innerHTML = '';\n",
              "          dataTable['output_type'] = 'display_data';\n",
              "          await google.colab.output.renderOutput(dataTable, element);\n",
              "          const docLink = document.createElement('div');\n",
              "          docLink.innerHTML = docLinkHtml;\n",
              "          element.appendChild(docLink);\n",
              "        }\n",
              "      </script>\n",
              "    </div>\n",
              "  </div>\n",
              "  "
            ]
          },
          "metadata": {},
          "execution_count": 98
        }
      ]
    },
    {
      "cell_type": "code",
      "source": [
        "df.shape"
      ],
      "metadata": {
        "colab": {
          "base_uri": "https://localhost:8080/"
        },
        "id": "qmtUIxqimb_a",
        "outputId": "240b33c9-4e0a-4931-cac0-4f9d1b7ef2e6"
      },
      "execution_count": 99,
      "outputs": [
        {
          "output_type": "execute_result",
          "data": {
            "text/plain": [
              "(28491, 13)"
            ]
          },
          "metadata": {},
          "execution_count": 99
        }
      ]
    },
    {
      "cell_type": "code",
      "source": [
        "df.enquiry_id.value_counts().sum() # each enquiry is unique, so we don't need this column."
      ],
      "metadata": {
        "colab": {
          "base_uri": "https://localhost:8080/"
        },
        "id": "zKHVEQewnsqP",
        "outputId": "582fcec9-2709-4cfc-ff94-7cc66ee5c1d2"
      },
      "execution_count": 100,
      "outputs": [
        {
          "output_type": "execute_result",
          "data": {
            "text/plain": [
              "28491"
            ]
          },
          "metadata": {},
          "execution_count": 100
        }
      ]
    },
    {
      "cell_type": "code",
      "source": [
        "df.info() # gross revenue columns must be float"
      ],
      "metadata": {
        "colab": {
          "base_uri": "https://localhost:8080/"
        },
        "id": "D6N6WMaznyAF",
        "outputId": "a06a3932-1ac6-414a-a048-d2a6276bc1a1"
      },
      "execution_count": 101,
      "outputs": [
        {
          "output_type": "stream",
          "name": "stdout",
          "text": [
            "<class 'pandas.core.frame.DataFrame'>\n",
            "RangeIndex: 28491 entries, 0 to 28490\n",
            "Data columns (total 13 columns):\n",
            " #   Column                    Non-Null Count  Dtype  \n",
            "---  ------                    --------------  -----  \n",
            " 0   enquiry_id                28491 non-null  int64  \n",
            " 1   number_of_passengers      28491 non-null  int64  \n",
            " 2   traveller_source_market   28491 non-null  object \n",
            " 3   booking_status            28491 non-null  object \n",
            " 4   gross_revenue_lcy         28491 non-null  object \n",
            " 5   currency                  28491 non-null  object \n",
            " 6   destination_continent     28491 non-null  object \n",
            " 7   destination_main_country  28491 non-null  object \n",
            " 8   lead_booking_travel_days  28491 non-null  int64  \n",
            " 9   operator_name             28491 non-null  object \n",
            " 10  tour_type                 28491 non-null  object \n",
            " 11  tour_length_in_days       28491 non-null  float64\n",
            " 12  traveller_age             11467 non-null  object \n",
            "dtypes: float64(1), int64(3), object(9)\n",
            "memory usage: 2.8+ MB\n"
          ]
        }
      ]
    },
    {
      "cell_type": "code",
      "source": [
        "df.isnull().sum().any() # we dont have any null in this dataset"
      ],
      "metadata": {
        "colab": {
          "base_uri": "https://localhost:8080/"
        },
        "id": "qZN3rESMfRxV",
        "outputId": "aecf2e89-5726-4cde-dfc3-ef214e6aabff"
      },
      "execution_count": 102,
      "outputs": [
        {
          "output_type": "execute_result",
          "data": {
            "text/plain": [
              "True"
            ]
          },
          "metadata": {},
          "execution_count": 102
        }
      ]
    },
    {
      "cell_type": "code",
      "source": [
        "df[\"operator_name\"].value_counts().nunique() # we have 135 operator"
      ],
      "metadata": {
        "colab": {
          "base_uri": "https://localhost:8080/"
        },
        "id": "JoEo6WKzoFOp",
        "outputId": "6e3ef8b1-bd35-44dd-9652-f59770404a8d"
      },
      "execution_count": 103,
      "outputs": [
        {
          "output_type": "execute_result",
          "data": {
            "text/plain": [
              "135"
            ]
          },
          "metadata": {},
          "execution_count": 103
        }
      ]
    },
    {
      "cell_type": "code",
      "source": [
        "for col in df:\n",
        "    print(f\"{col:<30}:\", df[col].nunique())"
      ],
      "metadata": {
        "colab": {
          "base_uri": "https://localhost:8080/"
        },
        "id": "uYrgcVe1fwfa",
        "outputId": "bf78d5c0-7065-463c-dc3d-b15fbd416db5"
      },
      "execution_count": 104,
      "outputs": [
        {
          "output_type": "stream",
          "name": "stdout",
          "text": [
            "enquiry_id                    : 28491\n",
            "number_of_passengers          : 34\n",
            "traveller_source_market       : 8\n",
            "booking_status                : 2\n",
            "gross_revenue_lcy             : 12335\n",
            "currency                      : 6\n",
            "destination_continent         : 6\n",
            "destination_main_country      : 135\n",
            "lead_booking_travel_days      : 618\n",
            "operator_name                 : 903\n",
            "tour_type                     : 35\n",
            "tour_length_in_days           : 65\n",
            "traveller_age                 : 76\n"
          ]
        }
      ]
    },
    {
      "cell_type": "code",
      "source": [
        "df.traveller_source_market.value_counts()"
      ],
      "metadata": {
        "colab": {
          "base_uri": "https://localhost:8080/"
        },
        "id": "hf1GSYZzgoCh",
        "outputId": "e5b37b03-67e7-4f5c-ea95-8c5a5cad3ef3"
      },
      "execution_count": 20,
      "outputs": [
        {
          "output_type": "execute_result",
          "data": {
            "text/plain": [
              "US             10850\n",
              "Australia       4792\n",
              "Europe          4137\n",
              "Canada          2996\n",
              "RoW             2701\n",
              "UK              2656\n",
              "New Zealand      358\n",
              "                   1\n",
              "Name: traveller_source_market, dtype: int64"
            ]
          },
          "metadata": {},
          "execution_count": 20
        }
      ]
    },
    {
      "cell_type": "code",
      "source": [
        "for i in range(df.shape[0]):\n",
        "  df['gross_revenue_lcy'][i]=df['gross_revenue_lcy'][i].replace(',','')"
      ],
      "metadata": {
        "id": "HhyZX77JiZgW"
      },
      "execution_count": 133,
      "outputs": []
    },
    {
      "cell_type": "code",
      "source": [
        "df['gross_revenue_lcy'] = df['gross_revenue_lcy'].astype(float)"
      ],
      "metadata": {
        "id": "unTz6jjXhnTL"
      },
      "execution_count": 134,
      "outputs": []
    },
    {
      "cell_type": "code",
      "source": [
        "(df['gross_revenue_lcy']>=10000) # we will drop columns which revenue less than 10000"
      ],
      "metadata": {
        "colab": {
          "base_uri": "https://localhost:8080/"
        },
        "id": "JMRl3ceC43yM",
        "outputId": "203f6981-5bd0-4500-eaa5-e3fd078063e7"
      },
      "execution_count": 136,
      "outputs": [
        {
          "output_type": "execute_result",
          "data": {
            "text/plain": [
              "0         True\n",
              "1         True\n",
              "2         True\n",
              "3         True\n",
              "4         True\n",
              "         ...  \n",
              "28486    False\n",
              "28487    False\n",
              "28488    False\n",
              "28489    False\n",
              "28490    False\n",
              "Name: gross_revenue_lcy, Length: 28491, dtype: bool"
            ]
          },
          "metadata": {},
          "execution_count": 136
        }
      ]
    },
    {
      "cell_type": "code",
      "source": [
        "df2=df[df['gross_revenue_lcy']>10000]"
      ],
      "metadata": {
        "id": "XUxPKHeI5sFp"
      },
      "execution_count": 154,
      "outputs": []
    },
    {
      "cell_type": "code",
      "source": [
        "df2.shape"
      ],
      "metadata": {
        "colab": {
          "base_uri": "https://localhost:8080/"
        },
        "id": "AM_bwppn5tuW",
        "outputId": "89af6562-f767-4509-e4c4-e91fe394ec4b"
      },
      "execution_count": 138,
      "outputs": [
        {
          "output_type": "execute_result",
          "data": {
            "text/plain": [
              "(7657, 13)"
            ]
          },
          "metadata": {},
          "execution_count": 138
        }
      ]
    },
    {
      "cell_type": "code",
      "source": [
        "df2.describe().T"
      ],
      "metadata": {
        "colab": {
          "base_uri": "https://localhost:8080/",
          "height": 206
        },
        "id": "i2BJh27DfCil",
        "outputId": "b407421f-9b8b-439d-8a48-ec0ad2ec7579"
      },
      "execution_count": 139,
      "outputs": [
        {
          "output_type": "execute_result",
          "data": {
            "text/plain": [
              "                            count        mean       std         min  \\\n",
              "enquiry_id               7657.000 1238395.000  2210.530 1234567.000   \n",
              "number_of_passengers     7657.000       3.366     3.325       1.000   \n",
              "gross_revenue_lcy        7657.000   21314.115 20973.763   10003.000   \n",
              "lead_booking_travel_days 7657.000     163.006   109.540       1.000   \n",
              "tour_length_in_days      7657.000      12.016     7.855       1.000   \n",
              "\n",
              "                                 25%         50%         75%         max  \n",
              "enquiry_id               1236481.000 1238395.000 1240309.000 1242223.000  \n",
              "number_of_passengers           2.000       2.000       4.000      75.000  \n",
              "gross_revenue_lcy          12093.000   15456.000   22402.000  715289.000  \n",
              "lead_booking_travel_days      65.000     151.000     228.000     879.000  \n",
              "tour_length_in_days            8.000      10.000      14.000     164.000  "
            ],
            "text/html": [
              "\n",
              "  <div id=\"df-e25e5ece-8fb3-4862-a634-32ef87fccfcd\">\n",
              "    <div class=\"colab-df-container\">\n",
              "      <div>\n",
              "<style scoped>\n",
              "    .dataframe tbody tr th:only-of-type {\n",
              "        vertical-align: middle;\n",
              "    }\n",
              "\n",
              "    .dataframe tbody tr th {\n",
              "        vertical-align: top;\n",
              "    }\n",
              "\n",
              "    .dataframe thead th {\n",
              "        text-align: right;\n",
              "    }\n",
              "</style>\n",
              "<table border=\"1\" class=\"dataframe\">\n",
              "  <thead>\n",
              "    <tr style=\"text-align: right;\">\n",
              "      <th></th>\n",
              "      <th>count</th>\n",
              "      <th>mean</th>\n",
              "      <th>std</th>\n",
              "      <th>min</th>\n",
              "      <th>25%</th>\n",
              "      <th>50%</th>\n",
              "      <th>75%</th>\n",
              "      <th>max</th>\n",
              "    </tr>\n",
              "  </thead>\n",
              "  <tbody>\n",
              "    <tr>\n",
              "      <th>enquiry_id</th>\n",
              "      <td>7657.000</td>\n",
              "      <td>1238395.000</td>\n",
              "      <td>2210.530</td>\n",
              "      <td>1234567.000</td>\n",
              "      <td>1236481.000</td>\n",
              "      <td>1238395.000</td>\n",
              "      <td>1240309.000</td>\n",
              "      <td>1242223.000</td>\n",
              "    </tr>\n",
              "    <tr>\n",
              "      <th>number_of_passengers</th>\n",
              "      <td>7657.000</td>\n",
              "      <td>3.366</td>\n",
              "      <td>3.325</td>\n",
              "      <td>1.000</td>\n",
              "      <td>2.000</td>\n",
              "      <td>2.000</td>\n",
              "      <td>4.000</td>\n",
              "      <td>75.000</td>\n",
              "    </tr>\n",
              "    <tr>\n",
              "      <th>gross_revenue_lcy</th>\n",
              "      <td>7657.000</td>\n",
              "      <td>21314.115</td>\n",
              "      <td>20973.763</td>\n",
              "      <td>10003.000</td>\n",
              "      <td>12093.000</td>\n",
              "      <td>15456.000</td>\n",
              "      <td>22402.000</td>\n",
              "      <td>715289.000</td>\n",
              "    </tr>\n",
              "    <tr>\n",
              "      <th>lead_booking_travel_days</th>\n",
              "      <td>7657.000</td>\n",
              "      <td>163.006</td>\n",
              "      <td>109.540</td>\n",
              "      <td>1.000</td>\n",
              "      <td>65.000</td>\n",
              "      <td>151.000</td>\n",
              "      <td>228.000</td>\n",
              "      <td>879.000</td>\n",
              "    </tr>\n",
              "    <tr>\n",
              "      <th>tour_length_in_days</th>\n",
              "      <td>7657.000</td>\n",
              "      <td>12.016</td>\n",
              "      <td>7.855</td>\n",
              "      <td>1.000</td>\n",
              "      <td>8.000</td>\n",
              "      <td>10.000</td>\n",
              "      <td>14.000</td>\n",
              "      <td>164.000</td>\n",
              "    </tr>\n",
              "  </tbody>\n",
              "</table>\n",
              "</div>\n",
              "      <button class=\"colab-df-convert\" onclick=\"convertToInteractive('df-e25e5ece-8fb3-4862-a634-32ef87fccfcd')\"\n",
              "              title=\"Convert this dataframe to an interactive table.\"\n",
              "              style=\"display:none;\">\n",
              "        \n",
              "  <svg xmlns=\"http://www.w3.org/2000/svg\" height=\"24px\"viewBox=\"0 0 24 24\"\n",
              "       width=\"24px\">\n",
              "    <path d=\"M0 0h24v24H0V0z\" fill=\"none\"/>\n",
              "    <path d=\"M18.56 5.44l.94 2.06.94-2.06 2.06-.94-2.06-.94-.94-2.06-.94 2.06-2.06.94zm-11 1L8.5 8.5l.94-2.06 2.06-.94-2.06-.94L8.5 2.5l-.94 2.06-2.06.94zm10 10l.94 2.06.94-2.06 2.06-.94-2.06-.94-.94-2.06-.94 2.06-2.06.94z\"/><path d=\"M17.41 7.96l-1.37-1.37c-.4-.4-.92-.59-1.43-.59-.52 0-1.04.2-1.43.59L10.3 9.45l-7.72 7.72c-.78.78-.78 2.05 0 2.83L4 21.41c.39.39.9.59 1.41.59.51 0 1.02-.2 1.41-.59l7.78-7.78 2.81-2.81c.8-.78.8-2.07 0-2.86zM5.41 20L4 18.59l7.72-7.72 1.47 1.35L5.41 20z\"/>\n",
              "  </svg>\n",
              "      </button>\n",
              "      \n",
              "  <style>\n",
              "    .colab-df-container {\n",
              "      display:flex;\n",
              "      flex-wrap:wrap;\n",
              "      gap: 12px;\n",
              "    }\n",
              "\n",
              "    .colab-df-convert {\n",
              "      background-color: #E8F0FE;\n",
              "      border: none;\n",
              "      border-radius: 50%;\n",
              "      cursor: pointer;\n",
              "      display: none;\n",
              "      fill: #1967D2;\n",
              "      height: 32px;\n",
              "      padding: 0 0 0 0;\n",
              "      width: 32px;\n",
              "    }\n",
              "\n",
              "    .colab-df-convert:hover {\n",
              "      background-color: #E2EBFA;\n",
              "      box-shadow: 0px 1px 2px rgba(60, 64, 67, 0.3), 0px 1px 3px 1px rgba(60, 64, 67, 0.15);\n",
              "      fill: #174EA6;\n",
              "    }\n",
              "\n",
              "    [theme=dark] .colab-df-convert {\n",
              "      background-color: #3B4455;\n",
              "      fill: #D2E3FC;\n",
              "    }\n",
              "\n",
              "    [theme=dark] .colab-df-convert:hover {\n",
              "      background-color: #434B5C;\n",
              "      box-shadow: 0px 1px 3px 1px rgba(0, 0, 0, 0.15);\n",
              "      filter: drop-shadow(0px 1px 2px rgba(0, 0, 0, 0.3));\n",
              "      fill: #FFFFFF;\n",
              "    }\n",
              "  </style>\n",
              "\n",
              "      <script>\n",
              "        const buttonEl =\n",
              "          document.querySelector('#df-e25e5ece-8fb3-4862-a634-32ef87fccfcd button.colab-df-convert');\n",
              "        buttonEl.style.display =\n",
              "          google.colab.kernel.accessAllowed ? 'block' : 'none';\n",
              "\n",
              "        async function convertToInteractive(key) {\n",
              "          const element = document.querySelector('#df-e25e5ece-8fb3-4862-a634-32ef87fccfcd');\n",
              "          const dataTable =\n",
              "            await google.colab.kernel.invokeFunction('convertToInteractive',\n",
              "                                                     [key], {});\n",
              "          if (!dataTable) return;\n",
              "\n",
              "          const docLinkHtml = 'Like what you see? Visit the ' +\n",
              "            '<a target=\"_blank\" href=https://colab.research.google.com/notebooks/data_table.ipynb>data table notebook</a>'\n",
              "            + ' to learn more about interactive tables.';\n",
              "          element.innerHTML = '';\n",
              "          dataTable['output_type'] = 'display_data';\n",
              "          await google.colab.output.renderOutput(dataTable, element);\n",
              "          const docLink = document.createElement('div');\n",
              "          docLink.innerHTML = docLinkHtml;\n",
              "          element.appendChild(docLink);\n",
              "        }\n",
              "      </script>\n",
              "    </div>\n",
              "  </div>\n",
              "  "
            ]
          },
          "metadata": {},
          "execution_count": 139
        }
      ]
    },
    {
      "cell_type": "code",
      "source": [
        "df2.info()"
      ],
      "metadata": {
        "colab": {
          "base_uri": "https://localhost:8080/"
        },
        "id": "OYwIV9f9ld2n",
        "outputId": "c2eaa1da-2157-4d09-a684-5cca437f20f3"
      },
      "execution_count": 140,
      "outputs": [
        {
          "output_type": "stream",
          "name": "stdout",
          "text": [
            "<class 'pandas.core.frame.DataFrame'>\n",
            "Int64Index: 7657 entries, 0 to 7656\n",
            "Data columns (total 13 columns):\n",
            " #   Column                    Non-Null Count  Dtype  \n",
            "---  ------                    --------------  -----  \n",
            " 0   enquiry_id                7657 non-null   int64  \n",
            " 1   number_of_passengers      7657 non-null   int64  \n",
            " 2   traveller_source_market   7657 non-null   object \n",
            " 3   booking_status            7657 non-null   object \n",
            " 4   gross_revenue_lcy         7657 non-null   float64\n",
            " 5   currency                  7657 non-null   object \n",
            " 6   destination_continent     7657 non-null   object \n",
            " 7   destination_main_country  7657 non-null   object \n",
            " 8   lead_booking_travel_days  7657 non-null   int64  \n",
            " 9   operator_name             7657 non-null   object \n",
            " 10  tour_type                 7657 non-null   object \n",
            " 11  tour_length_in_days       7657 non-null   float64\n",
            " 12  traveller_age             2687 non-null   object \n",
            "dtypes: float64(2), int64(3), object(8)\n",
            "memory usage: 837.5+ KB\n"
          ]
        }
      ]
    },
    {
      "cell_type": "code",
      "source": [
        "df2.groupby(['traveller_source_market','currency']).sum()[\"gross_revenue_lcy\"] # we must take care of currency!\n",
        "                                                                              # we could see the potantial of the source market"
      ],
      "metadata": {
        "colab": {
          "base_uri": "https://localhost:8080/"
        },
        "id": "070ASeaugI5F",
        "outputId": "d9cd00aa-339d-4dc6-fe69-3874b1098596"
      },
      "execution_count": 141,
      "outputs": [
        {
          "output_type": "execute_result",
          "data": {
            "text/plain": [
              "traveller_source_market  currency\n",
              "                         USD          231559.000\n",
              "Australia                AUD        34141207.000\n",
              "                         CAD          207022.000\n",
              "                         EUR           71508.000\n",
              "                         GBP           24144.000\n",
              "                         NZD          118707.000\n",
              "                         USD         1800235.000\n",
              "Canada                   AUD           98386.000\n",
              "                         CAD        18915390.000\n",
              "                         EUR          167377.000\n",
              "                         GBP          185186.000\n",
              "                         NZD           61794.000\n",
              "                         USD         6229015.000\n",
              "Europe                   AUD          639953.000\n",
              "                         CAD          146884.000\n",
              "                         EUR        10619177.000\n",
              "                         GBP          213840.000\n",
              "                         NZD           56664.000\n",
              "                         USD         1863488.000\n",
              "New Zealand              AUD           52872.000\n",
              "                         CAD           18423.000\n",
              "                         NZD         2459388.000\n",
              "                         USD           33172.000\n",
              "RoW                      CAD          245941.000\n",
              "                         EUR           70771.000\n",
              "                         GBP           22331.000\n",
              "                         USD        15286472.000\n",
              "UK                       AUD           15036.000\n",
              "                         EUR           83959.000\n",
              "                         GBP         4098903.000\n",
              "US                       CAD           48005.000\n",
              "                         EUR           51227.000\n",
              "                         GBP           23236.000\n",
              "                         USD        64900905.000\n",
              "Name: gross_revenue_lcy, dtype: float64"
            ]
          },
          "metadata": {},
          "execution_count": 141
        }
      ]
    },
    {
      "cell_type": "code",
      "source": [
        "df2.head()"
      ],
      "metadata": {
        "colab": {
          "base_uri": "https://localhost:8080/",
          "height": 305
        },
        "id": "MgGsiGZdFW0P",
        "outputId": "ad9aa3df-191a-484d-a077-b3e33dd14d14"
      },
      "execution_count": 142,
      "outputs": [
        {
          "output_type": "execute_result",
          "data": {
            "text/plain": [
              "   enquiry_id  number_of_passengers traveller_source_market booking_status  \\\n",
              "0     1234567                     5                     RoW     NOT BOOKED   \n",
              "1     1234568                    20                  Canada     NOT BOOKED   \n",
              "2     1234569                    18                  Canada     NOT BOOKED   \n",
              "3     1234570                    40                      US     NOT BOOKED   \n",
              "4     1234571                    16                             NOT BOOKED   \n",
              "\n",
              "   gross_revenue_lcy currency destination_continent destination_main_country  \\\n",
              "0         715289.000      USD                  Asia     United Arab Emirates   \n",
              "1         608074.000      USD                Europe                  Iceland   \n",
              "2         260695.000      CAD                Europe                   France   \n",
              "3         248285.000      USD         North America                      USA   \n",
              "4         231559.000      USD                Europe                  Germany   \n",
              "\n",
              "   lead_booking_travel_days operator_name          tour_type  \\\n",
              "0                        61    operator_1  In-depth Cultural   \n",
              "1                       150    operator_2          Adventure   \n",
              "2                       305    operator_3            Bicycle   \n",
              "3                       143    operator_4           Explorer   \n",
              "4                       296    operator_5  Festival & Events   \n",
              "\n",
              "   tour_length_in_days traveller_age  \n",
              "0                7.000           NaN  \n",
              "1               10.000           NaN  \n",
              "2                8.000           NaN  \n",
              "3                9.000           NaN  \n",
              "4                8.000           NaN  "
            ],
            "text/html": [
              "\n",
              "  <div id=\"df-059af919-363f-4ea1-a488-e58f1b5ab7a6\">\n",
              "    <div class=\"colab-df-container\">\n",
              "      <div>\n",
              "<style scoped>\n",
              "    .dataframe tbody tr th:only-of-type {\n",
              "        vertical-align: middle;\n",
              "    }\n",
              "\n",
              "    .dataframe tbody tr th {\n",
              "        vertical-align: top;\n",
              "    }\n",
              "\n",
              "    .dataframe thead th {\n",
              "        text-align: right;\n",
              "    }\n",
              "</style>\n",
              "<table border=\"1\" class=\"dataframe\">\n",
              "  <thead>\n",
              "    <tr style=\"text-align: right;\">\n",
              "      <th></th>\n",
              "      <th>enquiry_id</th>\n",
              "      <th>number_of_passengers</th>\n",
              "      <th>traveller_source_market</th>\n",
              "      <th>booking_status</th>\n",
              "      <th>gross_revenue_lcy</th>\n",
              "      <th>currency</th>\n",
              "      <th>destination_continent</th>\n",
              "      <th>destination_main_country</th>\n",
              "      <th>lead_booking_travel_days</th>\n",
              "      <th>operator_name</th>\n",
              "      <th>tour_type</th>\n",
              "      <th>tour_length_in_days</th>\n",
              "      <th>traveller_age</th>\n",
              "    </tr>\n",
              "  </thead>\n",
              "  <tbody>\n",
              "    <tr>\n",
              "      <th>0</th>\n",
              "      <td>1234567</td>\n",
              "      <td>5</td>\n",
              "      <td>RoW</td>\n",
              "      <td>NOT BOOKED</td>\n",
              "      <td>715289.000</td>\n",
              "      <td>USD</td>\n",
              "      <td>Asia</td>\n",
              "      <td>United Arab Emirates</td>\n",
              "      <td>61</td>\n",
              "      <td>operator_1</td>\n",
              "      <td>In-depth Cultural</td>\n",
              "      <td>7.000</td>\n",
              "      <td>NaN</td>\n",
              "    </tr>\n",
              "    <tr>\n",
              "      <th>1</th>\n",
              "      <td>1234568</td>\n",
              "      <td>20</td>\n",
              "      <td>Canada</td>\n",
              "      <td>NOT BOOKED</td>\n",
              "      <td>608074.000</td>\n",
              "      <td>USD</td>\n",
              "      <td>Europe</td>\n",
              "      <td>Iceland</td>\n",
              "      <td>150</td>\n",
              "      <td>operator_2</td>\n",
              "      <td>Adventure</td>\n",
              "      <td>10.000</td>\n",
              "      <td>NaN</td>\n",
              "    </tr>\n",
              "    <tr>\n",
              "      <th>2</th>\n",
              "      <td>1234569</td>\n",
              "      <td>18</td>\n",
              "      <td>Canada</td>\n",
              "      <td>NOT BOOKED</td>\n",
              "      <td>260695.000</td>\n",
              "      <td>CAD</td>\n",
              "      <td>Europe</td>\n",
              "      <td>France</td>\n",
              "      <td>305</td>\n",
              "      <td>operator_3</td>\n",
              "      <td>Bicycle</td>\n",
              "      <td>8.000</td>\n",
              "      <td>NaN</td>\n",
              "    </tr>\n",
              "    <tr>\n",
              "      <th>3</th>\n",
              "      <td>1234570</td>\n",
              "      <td>40</td>\n",
              "      <td>US</td>\n",
              "      <td>NOT BOOKED</td>\n",
              "      <td>248285.000</td>\n",
              "      <td>USD</td>\n",
              "      <td>North America</td>\n",
              "      <td>USA</td>\n",
              "      <td>143</td>\n",
              "      <td>operator_4</td>\n",
              "      <td>Explorer</td>\n",
              "      <td>9.000</td>\n",
              "      <td>NaN</td>\n",
              "    </tr>\n",
              "    <tr>\n",
              "      <th>4</th>\n",
              "      <td>1234571</td>\n",
              "      <td>16</td>\n",
              "      <td></td>\n",
              "      <td>NOT BOOKED</td>\n",
              "      <td>231559.000</td>\n",
              "      <td>USD</td>\n",
              "      <td>Europe</td>\n",
              "      <td>Germany</td>\n",
              "      <td>296</td>\n",
              "      <td>operator_5</td>\n",
              "      <td>Festival &amp; Events</td>\n",
              "      <td>8.000</td>\n",
              "      <td>NaN</td>\n",
              "    </tr>\n",
              "  </tbody>\n",
              "</table>\n",
              "</div>\n",
              "      <button class=\"colab-df-convert\" onclick=\"convertToInteractive('df-059af919-363f-4ea1-a488-e58f1b5ab7a6')\"\n",
              "              title=\"Convert this dataframe to an interactive table.\"\n",
              "              style=\"display:none;\">\n",
              "        \n",
              "  <svg xmlns=\"http://www.w3.org/2000/svg\" height=\"24px\"viewBox=\"0 0 24 24\"\n",
              "       width=\"24px\">\n",
              "    <path d=\"M0 0h24v24H0V0z\" fill=\"none\"/>\n",
              "    <path d=\"M18.56 5.44l.94 2.06.94-2.06 2.06-.94-2.06-.94-.94-2.06-.94 2.06-2.06.94zm-11 1L8.5 8.5l.94-2.06 2.06-.94-2.06-.94L8.5 2.5l-.94 2.06-2.06.94zm10 10l.94 2.06.94-2.06 2.06-.94-2.06-.94-.94-2.06-.94 2.06-2.06.94z\"/><path d=\"M17.41 7.96l-1.37-1.37c-.4-.4-.92-.59-1.43-.59-.52 0-1.04.2-1.43.59L10.3 9.45l-7.72 7.72c-.78.78-.78 2.05 0 2.83L4 21.41c.39.39.9.59 1.41.59.51 0 1.02-.2 1.41-.59l7.78-7.78 2.81-2.81c.8-.78.8-2.07 0-2.86zM5.41 20L4 18.59l7.72-7.72 1.47 1.35L5.41 20z\"/>\n",
              "  </svg>\n",
              "      </button>\n",
              "      \n",
              "  <style>\n",
              "    .colab-df-container {\n",
              "      display:flex;\n",
              "      flex-wrap:wrap;\n",
              "      gap: 12px;\n",
              "    }\n",
              "\n",
              "    .colab-df-convert {\n",
              "      background-color: #E8F0FE;\n",
              "      border: none;\n",
              "      border-radius: 50%;\n",
              "      cursor: pointer;\n",
              "      display: none;\n",
              "      fill: #1967D2;\n",
              "      height: 32px;\n",
              "      padding: 0 0 0 0;\n",
              "      width: 32px;\n",
              "    }\n",
              "\n",
              "    .colab-df-convert:hover {\n",
              "      background-color: #E2EBFA;\n",
              "      box-shadow: 0px 1px 2px rgba(60, 64, 67, 0.3), 0px 1px 3px 1px rgba(60, 64, 67, 0.15);\n",
              "      fill: #174EA6;\n",
              "    }\n",
              "\n",
              "    [theme=dark] .colab-df-convert {\n",
              "      background-color: #3B4455;\n",
              "      fill: #D2E3FC;\n",
              "    }\n",
              "\n",
              "    [theme=dark] .colab-df-convert:hover {\n",
              "      background-color: #434B5C;\n",
              "      box-shadow: 0px 1px 3px 1px rgba(0, 0, 0, 0.15);\n",
              "      filter: drop-shadow(0px 1px 2px rgba(0, 0, 0, 0.3));\n",
              "      fill: #FFFFFF;\n",
              "    }\n",
              "  </style>\n",
              "\n",
              "      <script>\n",
              "        const buttonEl =\n",
              "          document.querySelector('#df-059af919-363f-4ea1-a488-e58f1b5ab7a6 button.colab-df-convert');\n",
              "        buttonEl.style.display =\n",
              "          google.colab.kernel.accessAllowed ? 'block' : 'none';\n",
              "\n",
              "        async function convertToInteractive(key) {\n",
              "          const element = document.querySelector('#df-059af919-363f-4ea1-a488-e58f1b5ab7a6');\n",
              "          const dataTable =\n",
              "            await google.colab.kernel.invokeFunction('convertToInteractive',\n",
              "                                                     [key], {});\n",
              "          if (!dataTable) return;\n",
              "\n",
              "          const docLinkHtml = 'Like what you see? Visit the ' +\n",
              "            '<a target=\"_blank\" href=https://colab.research.google.com/notebooks/data_table.ipynb>data table notebook</a>'\n",
              "            + ' to learn more about interactive tables.';\n",
              "          element.innerHTML = '';\n",
              "          dataTable['output_type'] = 'display_data';\n",
              "          await google.colab.output.renderOutput(dataTable, element);\n",
              "          const docLink = document.createElement('div');\n",
              "          docLink.innerHTML = docLinkHtml;\n",
              "          element.appendChild(docLink);\n",
              "        }\n",
              "      </script>\n",
              "    </div>\n",
              "  </div>\n",
              "  "
            ]
          },
          "metadata": {},
          "execution_count": 142
        }
      ]
    },
    {
      "cell_type": "code",
      "source": [
        "dfbooked= df2[df2[\"booking_status\"]==\"BOOKED\"]"
      ],
      "metadata": {
        "id": "tXrrUMMeHQvz"
      },
      "execution_count": 169,
      "outputs": []
    },
    {
      "cell_type": "code",
      "source": [
        "dfnotbooked=df2[df2[\"booking_status\"]==\"NOT BOOKED\"]"
      ],
      "metadata": {
        "id": "RAnmzDAbIWWx"
      },
      "execution_count": 170,
      "outputs": []
    },
    {
      "cell_type": "code",
      "source": [
        "total_staff=0\n",
        "for model in df2.traveller_source_market.unique():\n",
        "    \n",
        "    BOOKED = dfbooked[dfbooked[\"traveller_source_market\"]== model][\"traveller_source_market\"].value_counts().sum()\n",
        "    NOT_BOOKED = dfnotbooked[dfnotbooked[\"traveller_source_market\"]== model][\"traveller_source_market\"].value_counts().sum()\n",
        "\n",
        "    percentage_of_booked = (BOOKED /(BOOKED+ NOT_BOOKED)) *100\n",
        "    staff= NOT_BOOKED / 200\n",
        "    total_staff=int(total_staff) + int(staff)\n",
        "\n",
        "    print(f\" the booked percentage for {model} : {percentage_of_booked}, \\\n",
        "          The Staff require for this source_market = {int(staff)} \")\n",
        "print(f\"required total staff = {total_staff}\")    \n",
        "\n"
      ],
      "metadata": {
        "colab": {
          "base_uri": "https://localhost:8080/"
        },
        "id": "NDQkIbShA3pQ",
        "outputId": "7e5c5464-301c-4881-cb97-6fc5b4a32be0"
      },
      "execution_count": 216,
      "outputs": [
        {
          "output_type": "stream",
          "name": "stdout",
          "text": [
            " the booked percentage for RoW : 13.344887348353554,           The Staff require for this source_market = 2 \n",
            " the booked percentage for Canada : 27.055449330783937,           The Staff require for this source_market = 3 \n",
            " the booked percentage for US : 31.816755569501098,           The Staff require for this source_market = 10 \n",
            " the booked percentage for   : 0.0,           The Staff require for this source_market = 0 \n",
            " the booked percentage for Australia : 37.564618035611716,           The Staff require for this source_market = 5 \n",
            " the booked percentage for Europe : 21.388101983002834,           The Staff require for this source_market = 2 \n",
            " the booked percentage for UK : 24.521072796934863,           The Staff require for this source_market = 0 \n",
            " the booked percentage for New Zealand : 42.028985507246375,           The Staff require for this source_market = 0 \n",
            "required total staff = 22\n"
          ]
        }
      ]
    },
    {
      "cell_type": "code",
      "source": [
        "#it seems that we need 22 staff, but we should divide this quantity to 3, because this dataset belong to 90 days(3 months)\n",
        "#required total staff = 22/3=8"
      ],
      "metadata": {
        "id": "7SOIITrUQHRx"
      },
      "execution_count": null,
      "outputs": []
    },
    {
      "cell_type": "code",
      "source": [
        "df2.groupby(['traveller_source_market','booking_status']).count()[\"enquiry_id\"]"
      ],
      "metadata": {
        "colab": {
          "base_uri": "https://localhost:8080/"
        },
        "id": "RSjQps5Zn7U-",
        "outputId": "573cc811-76cf-4645-f556-32ea0e8cbbbe"
      },
      "execution_count": 131,
      "outputs": [
        {
          "output_type": "execute_result",
          "data": {
            "text/plain": [
              "traveller_source_market  booking_status\n",
              "                         NOT BOOKED           1\n",
              "Australia                BOOKED             654\n",
              "                         NOT BOOKED        1087\n",
              "Canada                   BOOKED             283\n",
              "                         NOT BOOKED         763\n",
              "Europe                   BOOKED             151\n",
              "                         NOT BOOKED         555\n",
              "New Zealand              BOOKED              58\n",
              "                         NOT BOOKED          80\n",
              "RoW                      BOOKED              77\n",
              "                         NOT BOOKED         500\n",
              "UK                       BOOKED              64\n",
              "                         NOT BOOKED         197\n",
              "US                       BOOKED            1014\n",
              "                         NOT BOOKED        2173\n",
              "Name: enquiry_id, dtype: int64"
            ]
          },
          "metadata": {},
          "execution_count": 131
        }
      ]
    },
    {
      "cell_type": "code",
      "source": [
        "df2.columns"
      ],
      "metadata": {
        "colab": {
          "base_uri": "https://localhost:8080/"
        },
        "id": "vIe2k9lkPRqh",
        "outputId": "751557a2-337f-4e96-f48a-1a1d28a346a5"
      },
      "execution_count": 206,
      "outputs": [
        {
          "output_type": "execute_result",
          "data": {
            "text/plain": [
              "Index(['enquiry_id', 'number_of_passengers', 'traveller_source_market',\n",
              "       'booking_status', 'gross_revenue_lcy', 'currency',\n",
              "       'destination_continent', 'destination_main_country',\n",
              "       'lead_booking_travel_days', 'operator_name', 'tour_type',\n",
              "       'tour_length_in_days', 'traveller_age', 'staff_required'],\n",
              "      dtype='object')"
            ]
          },
          "metadata": {},
          "execution_count": 206
        }
      ]
    },
    {
      "cell_type": "code",
      "source": [
        "df2.groupby(['destination_main_country','tour_type']).count()[\"enquiry_id\"]"
      ],
      "metadata": {
        "colab": {
          "base_uri": "https://localhost:8080/"
        },
        "id": "odqS-aNsPIt0",
        "outputId": "ede2f66f-8747-4bcd-a4d0-207d089cbe26"
      },
      "execution_count": 210,
      "outputs": [
        {
          "output_type": "execute_result",
          "data": {
            "text/plain": [
              "destination_main_country  tour_type        \n",
              "Afghanistan               Explorer              1\n",
              "Albania                   Explorer              2\n",
              "                          Hiking & Trekking     2\n",
              "                          In-depth Cultural    11\n",
              "Angola                    Explorer              1\n",
              "                                               ..\n",
              "Vietnam                   Sailing               1\n",
              "Wales                     In-depth Cultural     4\n",
              "Zambia                    Adventure             1\n",
              "                          Safari                2\n",
              "Zimbabwe                  Adventure             1\n",
              "Name: enquiry_id, Length: 423, dtype: int64"
            ]
          },
          "metadata": {},
          "execution_count": 210
        }
      ]
    },
    {
      "cell_type": "code",
      "source": [
        "df2.groupby(['tour_type']).count()[\"enquiry_id\"]"
      ],
      "metadata": {
        "colab": {
          "base_uri": "https://localhost:8080/"
        },
        "id": "cyTSkICjPYrU",
        "outputId": "0be3da94-e6f3-47ae-b904-4a9d5563dec8"
      },
      "execution_count": 211,
      "outputs": [
        {
          "output_type": "execute_result",
          "data": {
            "text/plain": [
              "tour_type\n",
              "Adventure                  536\n",
              "Arctic                       4\n",
              "Beach                        1\n",
              "Bicycle                    115\n",
              "Coach / Bus                  7\n",
              "Custom                       3\n",
              "Explorer                  1879\n",
              "Festival & Events           23\n",
              "Food & Culinary             48\n",
              "Gorilla Trekking             4\n",
              "Health, Spa & Wellness       8\n",
              "Hiking & Trekking          195\n",
              "Historical                  13\n",
              "In-depth Cultural         3950\n",
              "Island Hopping              89\n",
              "Jeep & 4WD                   8\n",
              "Ocean Cruise                50\n",
              "Overland Truck              78\n",
              "Polar                       56\n",
              "River Cruise               234\n",
              "Safari                     214\n",
              "Sailing                     59\n",
              "Self Drive                   1\n",
              "Sightseeing                  6\n",
              "Wildlife                    76\n",
              "Name: enquiry_id, dtype: int64"
            ]
          },
          "metadata": {},
          "execution_count": 211
        }
      ]
    }
  ]
}